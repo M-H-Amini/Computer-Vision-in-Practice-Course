{
  "nbformat": 4,
  "nbformat_minor": 0,
  "metadata": {
    "colab": {
      "name": "CVinPractice-Lecture1.ipynb",
      "provenance": [],
      "collapsed_sections": [],
      "authorship_tag": "ABX9TyNolGyamcmZb9XGcZPqUBu6",
      "include_colab_link": true
    },
    "kernelspec": {
      "name": "python3",
      "display_name": "Python 3"
    },
    "language_info": {
      "name": "python"
    },
    "accelerator": "GPU"
  },
  "cells": [
    {
      "cell_type": "markdown",
      "metadata": {
        "id": "view-in-github",
        "colab_type": "text"
      },
      "source": [
        "<a href=\"https://colab.research.google.com/github/M-H-Amini/Computer-Vision-in-Practice-Course/blob/main/CVinPractice_Lecture1.ipynb\" target=\"_parent\"><img src=\"https://colab.research.google.com/assets/colab-badge.svg\" alt=\"Open In Colab\"/></a>"
      ]
    },
    {
      "cell_type": "markdown",
      "metadata": {
        "id": "D28TK_I3y-Vr"
      },
      "source": [
        "#  In The Name Of ALLAH\n",
        "#  Computer Vision in Practice\n",
        "#  Mohammad Hossein Amini (mhamini@aut.ac.ir)\n",
        "#  PythonChallenge.ir\n",
        "#  Lecture 1 - Image Classification"
      ]
    },
    {
      "cell_type": "markdown",
      "metadata": {
        "id": "BtZVNW_ezNtM"
      },
      "source": [
        "#  Vanilla CNN"
      ]
    },
    {
      "cell_type": "code",
      "metadata": {
        "id": "opoqxImxpcvH"
      },
      "source": [
        "import numpy as np\n",
        "import matplotlib.pyplot as plt\n",
        "from tensorflow.keras.layers import Conv2D, Flatten, Dense, MaxPool2D\n",
        "from tensorflow.keras.models import Sequential\n",
        "from tensorflow.keras.datasets import mnist"
      ],
      "execution_count": null,
      "outputs": []
    },
    {
      "cell_type": "markdown",
      "metadata": {
        "id": "hF2N5cDfzVtX"
      },
      "source": [
        "##  Dataset"
      ]
    },
    {
      "cell_type": "code",
      "metadata": {
        "id": "KH2tXrjOzXsX"
      },
      "source": [
        "(Xtrain, ytrain), (Xtest, ytest) = mnist.load_data()\n",
        "Xtrain = np.expand_dims((Xtrain - 127.5) / 127.5, -1)\n",
        "Xtest = np.expand_dims((Xtest - 127.5) / 127.5, -1)\n",
        "print(Xtrain.shape, ytrain.shape)\n",
        "print(Xtest.shape, ytest.shape)"
      ],
      "execution_count": null,
      "outputs": []
    },
    {
      "cell_type": "code",
      "metadata": {
        "id": "iGYVXT0FA_Fl"
      },
      "source": [
        "def show(X, y):\n",
        "  plt.figure()\n",
        "  plt.imshow(X[:, :, 0], cmap='gray')\n",
        "  plt.title(f'Target = {y}')\n",
        "  plt.show()\n",
        "\n",
        "show(Xtrain[10], ytrain[10])"
      ],
      "execution_count": null,
      "outputs": []
    },
    {
      "cell_type": "markdown",
      "metadata": {
        "id": "mQZBWMnMzX-R"
      },
      "source": [
        "##  Model"
      ]
    },
    {
      "cell_type": "code",
      "metadata": {
        "id": "dhmAojxbhr3d"
      },
      "source": [
        "model = Sequential()\n",
        "model.add(Conv2D(32, 3, activation='relu', padding='same', input_shape=(28, 28, 1)))\n",
        "model.add(MaxPool2D())\n",
        "model.add(Conv2D(64, 3, activation='relu', padding='same'))\n",
        "model.add(MaxPool2D())\n",
        "model.add(Conv2D(128, 3, activation='relu'))\n",
        "model.add(MaxPool2D())\n",
        "model.add(Flatten())\n",
        "model.add(Dense(32, activation='tanh'))\n",
        "model.add(Dense(10, activation='softmax'))\n",
        "\n",
        "model.summary()"
      ],
      "execution_count": null,
      "outputs": []
    },
    {
      "cell_type": "code",
      "metadata": {
        "id": "XO4ecCU_DISH"
      },
      "source": [
        "model.compile(optimizer='adam', loss='sparse_categorical_crossentropy', metrics=['accuracy'])"
      ],
      "execution_count": null,
      "outputs": []
    },
    {
      "cell_type": "code",
      "metadata": {
        "id": "sM-r_YX_Dlzv"
      },
      "source": [
        "model.fit(Xtrain, ytrain, batch_size=32, epochs=10, validation_data=(Xtest, ytest))"
      ],
      "execution_count": null,
      "outputs": []
    },
    {
      "cell_type": "code",
      "metadata": {
        "id": "ET6gp1hOGyLE"
      },
      "source": [
        "img = Xtest[10:11]\n",
        "plt.imshow(img[0, :, :, 0])\n",
        "output = model(img)\n",
        "print(np.argmax(output))"
      ],
      "execution_count": null,
      "outputs": []
    },
    {
      "cell_type": "markdown",
      "metadata": {
        "id": "TdcJSlkBzRyW"
      },
      "source": [
        "#  Covid-19 Detection"
      ]
    },
    {
      "cell_type": "code",
      "metadata": {
        "id": "A4lXXSKwwO4c"
      },
      "source": [
        "from google.colab import drive\n",
        "from PIL import Image\n",
        "import os\n",
        "from tensorflow.keras.applications.vgg19 import VGG19, preprocess_input\n",
        "from tensorflow.keras.models import Model\n",
        "drive.mount('/content/gdrive')"
      ],
      "execution_count": null,
      "outputs": []
    },
    {
      "cell_type": "markdown",
      "metadata": {
        "id": "333xaflrzbr1"
      },
      "source": [
        "##  Dataset"
      ]
    },
    {
      "cell_type": "code",
      "metadata": {
        "id": "Z_ggup61wWSX"
      },
      "source": [
        "!cp /content/gdrive/My\\ Drive/covid/kaggle.json kaggle.json\n",
        "!pip install -q kaggle\n",
        "!mkdir -p ~/.kaggle\n",
        "!cp kaggle.json ~/.kaggle/\n",
        "# This permissions change avoids a warning on Kaggle tool startup.\n",
        "!chmod 600 ~/.kaggle/kaggle.json\n",
        "#!kaggle datasets list\n",
        "!kaggle datasets download -d tawsifurrahman/covid19-radiography-database"
      ],
      "execution_count": null,
      "outputs": []
    },
    {
      "cell_type": "code",
      "metadata": {
        "id": "wzWJGxNIwZKE"
      },
      "source": [
        "!unzip -q covid19-radiography-database.zip -d covid"
      ],
      "execution_count": null,
      "outputs": []
    },
    {
      "cell_type": "code",
      "metadata": {
        "id": "ErLfRA-rhqLl"
      },
      "source": [
        "covid_path = os.path.join('covid', 'COVID-19_Radiography_Dataset', 'COVID')\n",
        "normal_path = os.path.join('covid', 'COVID-19_Radiography_Dataset', 'Normal')\n",
        "covid_files = [os.path.join(covid_path, file) for file in os.listdir(covid_path)]\n",
        "normal_files = [os.path.join(normal_path, file) for file in os.listdir(normal_path)]"
      ],
      "execution_count": null,
      "outputs": []
    },
    {
      "cell_type": "code",
      "metadata": {
        "id": "aykcC-XSJeNS"
      },
      "source": [
        "# m = min(len(covid_files), len(normal_files))\n",
        "m = 1500"
      ],
      "execution_count": null,
      "outputs": []
    },
    {
      "cell_type": "code",
      "metadata": {
        "id": "C7Hx1tQQIbAw"
      },
      "source": [
        "covid_images = np.array([np.array(Image.open(image).convert('RGB').resize((224, 224))) for image in covid_files[:m]])\n",
        "normal_images = np.array([np.array(Image.open(image).convert('RGB').resize((224, 224))) for image in normal_files[:m]])\n",
        "\n",
        "print(covid_images.shape)\n",
        "print(normal_images.shape)"
      ],
      "execution_count": null,
      "outputs": []
    },
    {
      "cell_type": "code",
      "metadata": {
        "id": "QdgKk51xJsb7"
      },
      "source": [
        "##  How many to take for training part...\n",
        "# N = 3200\n",
        "N = 1200"
      ],
      "execution_count": null,
      "outputs": []
    },
    {
      "cell_type": "code",
      "metadata": {
        "id": "WVw-DyCwJTcF"
      },
      "source": [
        "covid_train, covid_test = covid_images[:N], covid_images[N:]\n",
        "normal_train, normal_test = normal_images[:N], normal_images[N:]\n",
        "covid_train_targets, covid_test_targets = np.ones((len(covid_train))), np.ones((len(covid_test)))\n",
        "normal_train_targets, normal_test_targets = np.zeros((len(normal_train))), np.zeros((len(normal_test)))\n",
        "print(covid_train.shape, covid_test.shape)\n",
        "print(normal_train.shape, normal_test.shape)"
      ],
      "execution_count": null,
      "outputs": []
    },
    {
      "cell_type": "code",
      "metadata": {
        "id": "b4v4eK5dKBKZ"
      },
      "source": [
        "Xtrain = np.concatenate((covid_train, normal_train))\n",
        "ytrain = np.concatenate((covid_train_targets, normal_train_targets))\n",
        "Xtest = np.concatenate((covid_test, normal_test))\n",
        "ytest = np.concatenate((covid_test_targets, normal_test_targets))\n",
        "print(Xtrain.shape, ytrain.shape)\n",
        "print(Xtest.shape, ytest.shape)"
      ],
      "execution_count": null,
      "outputs": []
    },
    {
      "cell_type": "code",
      "metadata": {
        "id": "9NfMVkfKNZej"
      },
      "source": [
        "Xtrain = preprocess_input(Xtrain)\n",
        "Xtest = preprocess_input(Xtest)"
      ],
      "execution_count": null,
      "outputs": []
    },
    {
      "cell_type": "code",
      "metadata": {
        "id": "GVYhgY7HNBgM"
      },
      "source": [
        "plt.figure()\n",
        "plt.imshow(Xtrain[10])\n",
        "plt.title(f'Target: {ytrain[10]}')"
      ],
      "execution_count": null,
      "outputs": []
    },
    {
      "cell_type": "markdown",
      "metadata": {
        "id": "IkznlFrFzfIL"
      },
      "source": [
        "##  Model"
      ]
    },
    {
      "cell_type": "code",
      "metadata": {
        "id": "k1jvkdsWhd0P"
      },
      "source": [
        "base = VGG19(include_top=False, weights='imagenet', input_shape=(224,224,3))\n",
        "x = base.output\n",
        "x = Flatten()(x)\n",
        "x = Dense(16, activation='relu')(x)\n",
        "x = Dense(1, activation='sigmoid')(x)\n",
        "\n",
        "for layer in base.layers:\n",
        "  layer.trainable = False\n",
        "\n",
        "model = Model(inputs=base.input, outputs=x)\n",
        "model.summary()"
      ],
      "execution_count": null,
      "outputs": []
    },
    {
      "cell_type": "code",
      "metadata": {
        "id": "Z303FPKuMg3P"
      },
      "source": [
        "model.compile(optimizer='adam', loss='bce', metrics=['acc'])\n",
        "model.fit(Xtrain, ytrain, batch_size=32, epochs=10, validation_data=(Xtest, ytest))"
      ],
      "execution_count": null,
      "outputs": []
    },
    {
      "cell_type": "code",
      "metadata": {
        "id": "5l5xt3p6NfHF"
      },
      "source": [
        ""
      ],
      "execution_count": null,
      "outputs": []
    }
  ]
}