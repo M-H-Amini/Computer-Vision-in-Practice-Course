{
  "nbformat": 4,
  "nbformat_minor": 0,
  "metadata": {
    "colab": {
      "name": "CVinPractice-Lecture3.ipynb",
      "provenance": [],
      "collapsed_sections": [],
      "authorship_tag": "ABX9TyNeeSW31U6Kq1xVeAjZ0H8f",
      "include_colab_link": true
    },
    "kernelspec": {
      "name": "python3",
      "display_name": "Python 3"
    },
    "language_info": {
      "name": "python"
    },
    "accelerator": "GPU"
  },
  "cells": [
    {
      "cell_type": "markdown",
      "metadata": {
        "id": "view-in-github",
        "colab_type": "text"
      },
      "source": [
        "<a href=\"https://colab.research.google.com/github/M-H-Amini/Computer-Vision-in-Practice-Course/blob/main/CVinPractice_Lecture3.ipynb\" target=\"_parent\"><img src=\"https://colab.research.google.com/assets/colab-badge.svg\" alt=\"Open In Colab\"/></a>"
      ]
    },
    {
      "cell_type": "markdown",
      "metadata": {
        "id": "swUjcUFg_fkY"
      },
      "source": [
        "#  In The Name Of ALLAH\n",
        "#  Computer Vision in Practice\n",
        "#  Mohammad Hossein Amini (mhamini@aut.ac.ir)\n",
        "#  PythonChallenge.ir\n",
        "#  Lecture 3 - Semantic Segmentation"
      ]
    },
    {
      "cell_type": "code",
      "metadata": {
        "id": "rCAVF4CH4bY8"
      },
      "source": [
        "import os\n",
        "import numpy as np\n",
        "from keras.models import Model\n",
        "from keras.layers import Input, concatenate, Conv2D, MaxPooling2D, Conv2DTranspose\n",
        "from keras.callbacks import ModelCheckpoint\n",
        "from keras import backend as K\n",
        "from keras.callbacks import History\n",
        "from tensorflow.keras.optimizers import Adam\n",
        "import matplotlib.pyplot as plt\n",
        "import numpy as np\n",
        "from tqdm import tqdm\n",
        "from PIL import Image"
      ],
      "execution_count": null,
      "outputs": []
    },
    {
      "cell_type": "markdown",
      "metadata": {
        "id": "hlMTUftOAsxx"
      },
      "source": [
        "#  Data Preparation"
      ]
    },
    {
      "cell_type": "code",
      "metadata": {
        "id": "1MpFANeKYGko",
        "colab": {
          "base_uri": "https://localhost:8080/"
        },
        "outputId": "b0feb3dc-b06f-481d-b8fd-2fb5de8417d0"
      },
      "source": [
        "!gdown --id 1vWJ1TrZvzeU9UGAwMRj8qfYUNiQvtUKn"
      ],
      "execution_count": null,
      "outputs": [
        {
          "output_type": "stream",
          "name": "stdout",
          "text": [
            "Downloading...\n",
            "From: https://drive.google.com/uc?id=1vWJ1TrZvzeU9UGAwMRj8qfYUNiQvtUKn\n",
            "To: /content/Hair.zip\n",
            "100% 369M/369M [00:08<00:00, 45.1MB/s]\n"
          ]
        }
      ]
    },
    {
      "cell_type": "code",
      "metadata": {
        "id": "3qnIg1375MUE"
      },
      "source": [
        "!unzip -q Hair.zip -d ."
      ],
      "execution_count": null,
      "outputs": []
    },
    {
      "cell_type": "code",
      "metadata": {
        "id": "TZMdfTiU5CZL",
        "colab": {
          "base_uri": "https://localhost:8080/"
        },
        "outputId": "882d5867-ef84-45df-eb1a-9fcd26dc6f3a"
      },
      "source": [
        "images = 'Images'\n",
        "targets = 'Masks'\n",
        "\n",
        "image_files = os.listdir(images)\n",
        "label_files = os.listdir(targets)\n",
        "print(len(label_files), label_files[:10])\n",
        "\n",
        "final_images = []\n",
        "final_labels = []\n",
        "\n",
        "for file in tqdm(image_files):\n",
        "  if len(os.path.basename(file)) < 9:\n",
        "    image_name = f'{int(file.split(\".\")[0]):05}'\n",
        "    src = os.path.join(images, file)\n",
        "    dst = os.path.join(images, image_name+'.jpg')\n",
        "    os.rename(src, dst)\n",
        "\n",
        "for file in tqdm(image_files):\n",
        "  image_name = os.path.basename(file).split('.')[0]\n",
        "  target_name = image_name + '_hair.png'\n",
        "  if target_name in label_files:\n",
        "    final_images.append(os.path.join(images, image_name+'.jpg'))\n",
        "    final_labels.append(os.path.join(targets, target_name))\n",
        "\n",
        "images_array = []\n",
        "labels_array = []\n",
        "\n",
        "size = (256, 256)\n",
        "\n",
        "N = 250\n",
        "\n",
        "for image_file, label_file in tqdm(zip(final_images[:N], final_labels[:N])):\n",
        "  images_array.append(np.array(Image.open(image_file).resize(size)))\n",
        "  labels_array.append(np.array(Image.open(label_file).resize(size)))\n",
        "  \n",
        "images = np.array(images_array)\n",
        "labels = np.array(labels_array)[:, :, :, 0]\n",
        "\n",
        "print(images.shape, labels.shape)\n",
        "\n",
        "\n",
        "index = 15\n",
        "\n",
        "labels = np.expand_dims(labels, 3)\n",
        "\n",
        "images = images / 255.\n",
        "mean = np.mean(images)\n",
        "std = np.std(images)\n",
        "images = (images - mean) / std\n",
        "labels = labels / 255.\n",
        "\n",
        "print('Data is ready!')\n",
        "print(images.shape, labels.shape)"
      ],
      "execution_count": null,
      "outputs": [
        {
          "output_type": "stream",
          "name": "stdout",
          "text": [
            "2972 ['02281_hair.png', '01409_hair.png', '00785_hair.png', '00247_hair.png', '01814_hair.png', '02959_hair.png', '02966_hair.png', '00007_hair.png', '00709_hair.png', '01501_hair.png']\n"
          ]
        },
        {
          "output_type": "stream",
          "name": "stderr",
          "text": [
            "100%|██████████| 3001/3001 [00:00<00:00, 410498.20it/s]\n",
            "100%|██████████| 3001/3001 [00:00<00:00, 26165.63it/s]\n",
            "250it [00:08, 29.92it/s]\n"
          ]
        },
        {
          "output_type": "stream",
          "name": "stdout",
          "text": [
            "(250, 256, 256, 3) (250, 256, 256)\n",
            "Data is ready!\n",
            "(250, 256, 256, 3) (250, 256, 256, 1)\n"
          ]
        }
      ]
    },
    {
      "cell_type": "code",
      "metadata": {
        "id": "rf7258T2Hwa4",
        "colab": {
          "base_uri": "https://localhost:8080/"
        },
        "outputId": "d22fd95e-4968-4af4-df46-98a25dfee51c"
      },
      "source": [
        "N = 220  #  No of samples used for training\n",
        "images_train, images_test = images[:N], images[N:]\n",
        "labels_train, labels_test = labels[:N], labels[N:]\n",
        "\n",
        "print(images_train.shape, images_test.shape)\n",
        "print(labels_train.shape, labels_test.shape)"
      ],
      "execution_count": null,
      "outputs": [
        {
          "output_type": "stream",
          "name": "stdout",
          "text": [
            "(220, 256, 256, 3) (30, 256, 256, 3)\n",
            "(220, 256, 256, 1) (30, 256, 256, 1)\n"
          ]
        }
      ]
    },
    {
      "cell_type": "code",
      "metadata": {
        "id": "nLpXrdo2kBvZ",
        "colab": {
          "base_uri": "https://localhost:8080/",
          "height": 221
        },
        "outputId": "567d4de5-0c97-4ba9-ee82-4e52cf04a8c6"
      },
      "source": [
        "index = 210\n",
        "def show(image, label):\n",
        "  plt.figure()\n",
        "  plt.subplot(1, 2, 1)\n",
        "  plt.imshow(image)\n",
        "  plt.subplot(1, 2, 2)\n",
        "  plt.imshow(label)\n",
        "  plt.show()\n",
        "\n",
        "show(images_train[index], labels_train[index, :, :, 0])"
      ],
      "execution_count": null,
      "outputs": [
        {
          "output_type": "stream",
          "name": "stderr",
          "text": [
            "Clipping input data to the valid range for imshow with RGB data ([0..1] for floats or [0..255] for integers).\n"
          ]
        },
        {
          "output_type": "display_data",
          "data": {
            "image/png": "[encoded data removed]",
            "text/plain": [
              "<Figure size 432x288 with 2 Axes>"
            ]
          },
          "metadata": {
            "needs_background": "light"
          }
        }
      ]
    },
    {
      "cell_type": "markdown",
      "metadata": {
        "id": "39UFG-wRA1Hj"
      },
      "source": [
        "#  Model"
      ]
    },
    {
      "cell_type": "code",
      "metadata": {
        "id": "-chIzYBa4nIY"
      },
      "source": [
        "smooth = 1.\n",
        "\n",
        "def dice_coef(y_true, y_pred):\n",
        "    y_true_f = K.flatten(y_true)\n",
        "    y_pred_f = K.flatten(y_pred)\n",
        "    intersection = K.sum(y_true_f * y_pred_f)\n",
        "    return (2. * intersection + smooth) / (K.sum(y_true_f) + K.sum(y_pred_f) + smooth)\n",
        "\n",
        "\n",
        "def dice_coef_loss(y_true, y_pred):\n",
        "    return -dice_coef(y_true, y_pred)\n",
        "\n",
        "opt = Adam(1e-4)"
      ],
      "execution_count": null,
      "outputs": []
    },
    {
      "cell_type": "code",
      "metadata": {
        "id": "KvN0DfRX4vp7"
      },
      "source": [
        "def get_unet(img_rows, img_cols):\n",
        "    inputs = Input((img_rows, img_cols, 3))\n",
        "    conv1 = Conv2D(32, (3, 3), activation='relu', padding='same')(inputs)\n",
        "    conv1 = Conv2D(32, (3, 3), activation='relu', padding='same')(conv1)\n",
        "    pool1 = MaxPooling2D(pool_size=(2, 2))(conv1)\n",
        "\n",
        "    conv2 = Conv2D(64, (3, 3), activation='relu', padding='same')(pool1)\n",
        "    conv2 = Conv2D(64, (3, 3), activation='relu', padding='same')(conv2)\n",
        "    pool2 = MaxPooling2D(pool_size=(2, 2))(conv2)\n",
        "\n",
        "    conv3 = Conv2D(128, (3, 3), activation='relu', padding='same')(pool2)\n",
        "    conv3 = Conv2D(128, (3, 3), activation='relu', padding='same')(conv3)\n",
        "    pool3 = MaxPooling2D(pool_size=(2, 2))(conv3)\n",
        "\n",
        "    conv4 = Conv2D(256, (3, 3), activation='relu', padding='same')(pool3)\n",
        "    conv4 = Conv2D(256, (3, 3), activation='relu', padding='same')(conv4)\n",
        "    pool4 = MaxPooling2D(pool_size=(2, 2))(conv4)\n",
        "\n",
        "    conv5 = Conv2D(512, (3, 3), activation='relu', padding='same')(pool4)\n",
        "    conv5 = Conv2D(512, (3, 3), activation='relu', padding='same')(conv5)\n",
        "\n",
        "    up6 = concatenate([Conv2DTranspose(256, (2, 2), strides=(2, 2), padding='same')(conv5), conv4], axis=3)\n",
        "    conv6 = Conv2D(256, (3, 3), activation='relu', padding='same')(up6)\n",
        "    conv6 = Conv2D(256, (3, 3), activation='relu', padding='same')(conv6)\n",
        "\n",
        "    up7 = concatenate([Conv2DTranspose(128, (2, 2), strides=(2, 2), padding='same')(conv6), conv3], axis=3)\n",
        "    conv7 = Conv2D(128, (3, 3), activation='relu', padding='same')(up7)\n",
        "    conv7 = Conv2D(128, (3, 3), activation='relu', padding='same')(conv7)\n",
        "\n",
        "    up8 = concatenate([Conv2DTranspose(64, (2, 2), strides=(2, 2), padding='same')(conv7), conv2], axis=3)\n",
        "    conv8 = Conv2D(64, (3, 3), activation='relu', padding='same')(up8)\n",
        "    conv8 = Conv2D(64, (3, 3), activation='relu', padding='same')(conv8)\n",
        "\n",
        "    up9 = concatenate([Conv2DTranspose(32, (2, 2), strides=(2, 2), padding='same')(conv8), conv1], axis=3)\n",
        "    conv9 = Conv2D(32, (3, 3), activation='relu', padding='same')(up9)\n",
        "    conv9 = Conv2D(32, (3, 3), activation='relu', padding='same')(conv9)\n",
        "\n",
        "    conv10 = Conv2D(1, (1, 1), activation='sigmoid')(conv9)\n",
        "\n",
        "    model = Model(inputs=[inputs], outputs=[conv10])\n",
        "\n",
        "    model.compile(optimizer=opt, loss=dice_coef_loss, metrics=[dice_coef])\n",
        "\n",
        "    return model\n"
      ],
      "execution_count": null,
      "outputs": []
    },
    {
      "cell_type": "code",
      "metadata": {
        "id": "kgY8APpT9tlq"
      },
      "source": [
        "model = get_unet(256, 256)\n",
        "model_checkpoint = ModelCheckpoint('weights.h5', monitor='val_loss', save_best_only=True)"
      ],
      "execution_count": null,
      "outputs": []
    },
    {
      "cell_type": "code",
      "metadata": {
        "id": "lpTJboOkNPZq"
      },
      "source": [
        "opt.learning_rate = 0.0001"
      ],
      "execution_count": null,
      "outputs": []
    },
    {
      "cell_type": "code",
      "metadata": {
        "id": "zrH5pxYk401J",
        "colab": {
          "base_uri": "https://localhost:8080/"
        },
        "outputId": "7cc9b95a-92d2-4e61-cef5-351c9708f355"
      },
      "source": [
        "history = model.fit(images_train, labels_train, batch_size=32, epochs=5, shuffle=True,\n",
        "          validation_data=(images_test, labels_test), callbacks=[model_checkpoint])"
      ],
      "execution_count": null,
      "outputs": [
        {
          "output_type": "stream",
          "name": "stdout",
          "text": [
            "Epoch 1/5\n",
            "7/7 [==============================] - 75s 5s/step - loss: -0.4220 - dice_coef: 0.4217 - val_loss: -0.4046 - val_dice_coef: 0.4046\n",
            "Epoch 2/5\n",
            "7/7 [==============================] - 8s 1s/step - loss: -0.4419 - dice_coef: 0.4425 - val_loss: -0.4252 - val_dice_coef: 0.4252\n",
            "Epoch 3/5\n",
            "7/7 [==============================] - 8s 1s/step - loss: -0.4748 - dice_coef: 0.4759 - val_loss: -0.4722 - val_dice_coef: 0.4722\n",
            "Epoch 4/5\n",
            "7/7 [==============================] - 8s 1s/step - loss: -0.5313 - dice_coef: 0.5307 - val_loss: -0.5093 - val_dice_coef: 0.5093\n",
            "Epoch 5/5\n",
            "7/7 [==============================] - 8s 1s/step - loss: -0.5605 - dice_coef: 0.5614 - val_loss: -0.5315 - val_dice_coef: 0.5315\n"
          ]
        }
      ]
    },
    {
      "cell_type": "code",
      "metadata": {
        "id": "V59Njzoi-g-C"
      },
      "source": [
        "model.load_weights('weights.h5')"
      ],
      "execution_count": null,
      "outputs": []
    },
    {
      "cell_type": "code",
      "metadata": {
        "id": "BwVvajmDLf-h"
      },
      "source": [
        "out = model(images_test).numpy()"
      ],
      "execution_count": null,
      "outputs": []
    },
    {
      "cell_type": "code",
      "metadata": {
        "id": "E3WZWXOUC4VL"
      },
      "source": [
        "model.save('MHHair')"
      ],
      "execution_count": null,
      "outputs": []
    }
  ]
}